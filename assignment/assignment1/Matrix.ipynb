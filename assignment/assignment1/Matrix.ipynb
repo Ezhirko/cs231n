{
 "cells": [
  {
   "cell_type": "code",
   "execution_count": 1,
   "metadata": {},
   "outputs": [],
   "source": [
    "class Matrix(object):\n",
    "\n",
    "    # Constructor\n",
    "    def __init__(self, row, col, matrix, name=''):\n",
    "        self.matrix = matrix # 创建一个矩阵\n",
    "        self.row = row\n",
    "        self.col = col\n",
    "        self.name=name\n",
    "\n",
    "    def print_matrix(self):\n",
    "        for i in range(self.row):\n",
    "            for j in range(self.col):\n",
    "                print(\"%2d \"%self.matrix[i][j], end='')\n",
    "            print(\"\\n\", end='')\n",
    "        \n",
    "    def show(self):\n",
    "        if self.name!='': print(\"Printing matrix %s:\"%self.name)\n",
    "        self.print_matrix()\n",
    "    \n",
    "    # Multiply\n",
    "    def mul(self, matrixB):\n",
    "        assert isinstance(matrixB, Matrix)\n",
    "        assert self.row == matrixB.row\n",
    "        assert self.col == matrixB.col\n",
    "        ans = []\n",
    "        for i in range(self.row):\n",
    "            ans_row = [a*b for a,b in zip(self.matrix[i],matrixB.matrix[i])]\n",
    "            ans.append(ans_row)\n",
    "        return Matrix(self.row, self.col, ans)\n",
    "    \n",
    "    # Dot product\n",
    "    def dot(self, matrixB):\n",
    "        assert isinstance(matrixB, Matrix)\n",
    "        assert self.col == matrixB.row\n",
    "        ans = []\n",
    "        for i in range(self.row):\n",
    "            row_i = self.matrix[i]\n",
    "            ans_row = []\n",
    "            for j in range(matrixB.col):\n",
    "                col_j = [row[j] for row in matrixB.matrix]\n",
    "                dot_ij = sum([a*b for a,b in zip(row_i, col_j)])\n",
    "                ans_row.append(dot_ij)\n",
    "            ans.append(ans_row)\n",
    "        return Matrix(self.row, matrixB.col, ans)            "
   ]
  },
  {
   "cell_type": "code",
   "execution_count": 2,
   "metadata": {},
   "outputs": [
    {
     "name": "stdout",
     "output_type": "stream",
     "text": [
      "Printing matrix A:\n",
      " 1  4 \n",
      " 2  5 \n",
      " 3  6 \n",
      "Printing matrix B:\n",
      " 7  8  9 \n",
      "10 11 12 \n",
      "Printing matrix C:\n",
      " 7 10 \n",
      " 8 11 \n",
      " 9 12 \n"
     ]
    }
   ],
   "source": [
    "A = Matrix(3, 2, [[1, 4], [2, 5], [3, 6]], name='A')\n",
    "B = Matrix(2, 3, [[7, 8, 9], [10, 11, 12]], name='B')\n",
    "C = Matrix(3, 2, [[7, 10], [8, 11], [9, 12]], name='C')\n",
    "A.show()\n",
    "B.show()\n",
    "C.show()"
   ]
  },
  {
   "cell_type": "code",
   "execution_count": 3,
   "metadata": {},
   "outputs": [
    {
     "name": "stdout",
     "output_type": "stream",
     "text": [
      "47 52 57 \n",
      "64 71 78 \n",
      "81 90 99 \n"
     ]
    }
   ],
   "source": [
    "X = A.dot(B)\n",
    "X.show()"
   ]
  },
  {
   "cell_type": "code",
   "execution_count": 4,
   "metadata": {},
   "outputs": [
    {
     "name": "stdout",
     "output_type": "stream",
     "text": [
      " 7 40 \n",
      "16 55 \n",
      "27 72 \n"
     ]
    }
   ],
   "source": [
    "Y = A.mul(C)\n",
    "Y.show()"
   ]
  },
  {
   "cell_type": "code",
   "execution_count": null,
   "metadata": {},
   "outputs": [],
   "source": []
  }
 ],
 "metadata": {
  "kernelspec": {
   "display_name": "Python 3",
   "language": "python",
   "name": "python3"
  },
  "language_info": {
   "codemirror_mode": {
    "name": "ipython",
    "version": 3
   },
   "file_extension": ".py",
   "mimetype": "text/x-python",
   "name": "python",
   "nbconvert_exporter": "python",
   "pygments_lexer": "ipython3",
   "version": "3.6.4"
  }
 },
 "nbformat": 4,
 "nbformat_minor": 2
}
